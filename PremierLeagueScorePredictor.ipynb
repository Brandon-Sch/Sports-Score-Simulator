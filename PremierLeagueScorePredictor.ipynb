{
  "cells": [
    {
      "cell_type": "markdown",
      "metadata": {
        "id": "view-in-github",
        "colab_type": "text"
      },
      "source": [
        "<a href=\"https://colab.research.google.com/github/Brandon-Sch/Sports-Score-Simulator/blob/main/PremierLeagueScorePredictor.ipynb\" target=\"_parent\"><img src=\"https://colab.research.google.com/assets/colab-badge.svg\" alt=\"Open In Colab\"/></a>"
      ]
    },
    {
      "cell_type": "markdown",
      "source": [
        "# Data Parsing"
      ],
      "metadata": {
        "id": "yqLpTPNhdLA-"
      },
      "id": "yqLpTPNhdLA-"
    },
    {
      "cell_type": "code",
      "execution_count": 17,
      "id": "92f543f1-c3be-474c-8e8a-8ceff8c14179",
      "metadata": {
        "id": "92f543f1-c3be-474c-8e8a-8ceff8c14179"
      },
      "outputs": [],
      "source": [
        "#import packages\n",
        "import pandas as pd\n",
        "from sklearn.preprocessing import LabelEncoder"
      ]
    },
    {
      "cell_type": "code",
      "source": [
        "#read data in from the csv file using pandas read\n",
        "#specify encoding because different encoding than UTF-8\n",
        "df = pd.read_csv(\"PremierLeagueData.csv\", encoding='latin1')\n",
        "#print the first 5 lines of the dataset\n",
        "print(df.head())"
      ],
      "metadata": {
        "colab": {
          "base_uri": "https://localhost:8080/"
        },
        "id": "exbRrSy9c3dZ",
        "outputId": "3ed69711-b7ec-4613-c315-c930cbe581fd"
      },
      "id": "exbRrSy9c3dZ",
      "execution_count": 18,
      "outputs": [
        {
          "output_type": "stream",
          "name": "stdout",
          "text": [
            "    Season              DateTime     HomeTeam        AwayTeam  FTHG  FTAG FTR  \\\n",
            "0  1993-94  1993-08-14T00:00:00Z      Arsenal        Coventry     0     3   A   \n",
            "1  1993-94  1993-08-14T00:00:00Z  Aston Villa             QPR     4     1   H   \n",
            "2  1993-94  1993-08-14T00:00:00Z      Chelsea       Blackburn     1     2   A   \n",
            "3  1993-94  1993-08-14T00:00:00Z    Liverpool  Sheffield Weds     2     0   H   \n",
            "4  1993-94  1993-08-14T00:00:00Z     Man City           Leeds     1     1   D   \n",
            "\n",
            "   HTHG  HTAG  HTR  ... HST  AST  HC  AC  HF  AF  HY  AY  HR  AR  \n",
            "0   NaN   NaN  NaN  ... NaN  NaN NaN NaN NaN NaN NaN NaN NaN NaN  \n",
            "1   NaN   NaN  NaN  ... NaN  NaN NaN NaN NaN NaN NaN NaN NaN NaN  \n",
            "2   NaN   NaN  NaN  ... NaN  NaN NaN NaN NaN NaN NaN NaN NaN NaN  \n",
            "3   NaN   NaN  NaN  ... NaN  NaN NaN NaN NaN NaN NaN NaN NaN NaN  \n",
            "4   NaN   NaN  NaN  ... NaN  NaN NaN NaN NaN NaN NaN NaN NaN NaN  \n",
            "\n",
            "[5 rows x 23 columns]\n"
          ]
        }
      ]
    },
    {
      "cell_type": "code",
      "source": [
        "print(df.columns)"
      ],
      "metadata": {
        "colab": {
          "base_uri": "https://localhost:8080/"
        },
        "id": "qIX1ma8be5Do",
        "outputId": "c03b3580-542d-41d2-9489-770f8f6911ec"
      },
      "id": "qIX1ma8be5Do",
      "execution_count": 19,
      "outputs": [
        {
          "output_type": "stream",
          "name": "stdout",
          "text": [
            "Index(['Season', 'DateTime', 'HomeTeam', 'AwayTeam', 'FTHG', 'FTAG', 'FTR',\n",
            "       'HTHG', 'HTAG', 'HTR', 'Referee', 'HS', 'AS', 'HST', 'AST', 'HC', 'AC',\n",
            "       'HF', 'AF', 'HY', 'AY', 'HR', 'AR'],\n",
            "      dtype='object')\n"
          ]
        }
      ]
    },
    {
      "cell_type": "code",
      "source": [
        "#drop the columns that aren't necessary\n",
        "df = df.drop(columns = ['HTHG', 'HTAG', 'HTR', 'Referee', 'HS', 'AS', 'HST', 'AST', 'HC', 'AC', 'HF', 'AF', 'HY', 'AY', 'HR', 'AR'], axis = 1)\n",
        "print(df.head())"
      ],
      "metadata": {
        "colab": {
          "base_uri": "https://localhost:8080/"
        },
        "id": "KoUWEOpqdJIq",
        "outputId": "57a64af0-b71c-48aa-a427-052caa6a9da0"
      },
      "id": "KoUWEOpqdJIq",
      "execution_count": 20,
      "outputs": [
        {
          "output_type": "stream",
          "name": "stdout",
          "text": [
            "    Season              DateTime     HomeTeam        AwayTeam  FTHG  FTAG FTR\n",
            "0  1993-94  1993-08-14T00:00:00Z      Arsenal        Coventry     0     3   A\n",
            "1  1993-94  1993-08-14T00:00:00Z  Aston Villa             QPR     4     1   H\n",
            "2  1993-94  1993-08-14T00:00:00Z      Chelsea       Blackburn     1     2   A\n",
            "3  1993-94  1993-08-14T00:00:00Z    Liverpool  Sheffield Weds     2     0   H\n",
            "4  1993-94  1993-08-14T00:00:00Z     Man City           Leeds     1     1   D\n"
          ]
        }
      ]
    },
    {
      "cell_type": "code",
      "source": [
        "# sorting date time\n",
        "df['DateTime'] = pd.to_datetime(df['DateTime'])\n",
        "df = df.sort_values('DateTime')\n",
        "\n",
        "# Label encoding"
      ],
      "metadata": {
        "id": "8s1ujvyxfcdT"
      },
      "id": "8s1ujvyxfcdT",
      "execution_count": 21,
      "outputs": []
    },
    {
      "cell_type": "code",
      "source": [
        "#Label Encoder because a model cannot read names and needs to read them in as numbers\n",
        "encoder = LabelEncoder()\n",
        "#goes trough the home teams and assigns them all a number\n",
        "df['HomeTeam'] = encoder.fit_transform(df['HomeTeam'])\n",
        "#goes through the away teams and assigns them all the same number they have for the home teams\n",
        "df['AwayTeam'] = encoder.transform(df['AwayTeam'])\n",
        "print(df.head())"
      ],
      "metadata": {
        "colab": {
          "base_uri": "https://localhost:8080/"
        },
        "id": "0R_R7LOCj3In",
        "outputId": "93d5d081-22be-4efe-b24c-b9948ae2a559"
      },
      "id": "0R_R7LOCj3In",
      "execution_count": 23,
      "outputs": [
        {
          "output_type": "stream",
          "name": "stdout",
          "text": [
            "    Season                  DateTime  HomeTeam  AwayTeam  FTHG  FTAG FTR\n",
            "0  1993-94 1993-08-14 00:00:00+00:00         0        15     0     3   A\n",
            "9  1993-94 1993-08-14 00:00:00+00:00        46        48     0     2   A\n",
            "7  1993-94 1993-08-14 00:00:00+00:00        36        42     3     1   H\n",
            "6  1993-94 1993-08-14 00:00:00+00:00        32        22     0     3   A\n",
            "5  1993-94 1993-08-14 00:00:00+00:00        29        43     0     1   A\n"
          ]
        }
      ]
    },
    {
      "cell_type": "code",
      "source": [
        "#Keep track of rolling averages for wins for home/away team\n",
        "\n",
        "#gets the points.\n",
        "#if the home team wins the match, and the team we are looking at is home we return 3 points\n",
        "#if the away team wins and the team we are looking at is away then return 3 points\n",
        "#if a draw return 1 regardless of team\n",
        "#otherwise return 0\n",
        "def get_points(result, is_home):\n",
        "    if result == 'H' and is_home: return 3\n",
        "    if result == 'A' and not is_home: return 3\n",
        "    if result == 'D': return 1\n",
        "    return 0\n",
        "\n",
        "df['HomePoints'] = df.apply(lambda x: get_points(x['FTR'], True), axis=1)\n",
        "df['AwayPoints'] = df.apply(lambda x: get_points(x['FTR'], False), axis=1)\n",
        "print(df.head())\n",
        "\n",
        "df['HomeForm'] = df.groupby('HomeTeam')['HomePoints'].transform(lambda x: x.shift().rolling(5).mean())\n",
        "df['AwayForm'] = df.groupby('AwayTeam')['AwayPoints'].transform(lambda x: x.shift().rolling(5).mean())"
      ],
      "metadata": {
        "id": "e1ZeS_hclMT9",
        "outputId": "215220f0-8982-428a-e67f-b1c44119756b",
        "colab": {
          "base_uri": "https://localhost:8080/"
        }
      },
      "id": "e1ZeS_hclMT9",
      "execution_count": 27,
      "outputs": [
        {
          "output_type": "stream",
          "name": "stdout",
          "text": [
            "    Season                  DateTime  HomeTeam  AwayTeam  FTHG  FTAG FTR  \\\n",
            "0  1993-94 1993-08-14 00:00:00+00:00         0        15     0     3   A   \n",
            "9  1993-94 1993-08-14 00:00:00+00:00        46        48     0     2   A   \n",
            "7  1993-94 1993-08-14 00:00:00+00:00        36        42     3     1   H   \n",
            "6  1993-94 1993-08-14 00:00:00+00:00        32        22     0     3   A   \n",
            "5  1993-94 1993-08-14 00:00:00+00:00        29        43     0     1   A   \n",
            "\n",
            "   HomePoints  AwayPoints  HomeForm  AwayForm  HomeGoalsAvg  AwayGoalsAvg  \n",
            "0           0           3       0.0       0.0           0.0           0.0  \n",
            "9           0           3       0.0       0.0           0.0           0.0  \n",
            "7           3           0       0.0       0.0           0.0           0.0  \n",
            "6           0           3       0.0       0.0           0.0           0.0  \n",
            "5           0           3       0.0       0.0           0.0           0.0  \n"
          ]
        }
      ]
    },
    {
      "cell_type": "code",
      "source": [
        "df['HomeGoalsAvg'] = df.groupby('HomeTeam')['FTHG'].transform(lambda x: x.shift().rolling(5).mean())\n",
        "df['AwayGoalsAvg'] = df.groupby('AwayTeam')['FTAG'].transform(lambda x: x.shift().rolling(5).mean())\n"
      ],
      "metadata": {
        "id": "qSTCtyLClUdw"
      },
      "id": "qSTCtyLClUdw",
      "execution_count": 25,
      "outputs": []
    },
    {
      "cell_type": "code",
      "source": [
        "df = df.fillna(0)\n"
      ],
      "metadata": {
        "id": "zji6SGEylWeL"
      },
      "id": "zji6SGEylWeL",
      "execution_count": 26,
      "outputs": []
    }
  ],
  "metadata": {
    "kernelspec": {
      "display_name": "",
      "name": ""
    },
    "language_info": {
      "name": ""
    },
    "colab": {
      "provenance": [],
      "include_colab_link": true
    }
  },
  "nbformat": 4,
  "nbformat_minor": 5
}