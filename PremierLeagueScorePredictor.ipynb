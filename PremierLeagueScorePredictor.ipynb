{
  "cells": [
    {
      "cell_type": "markdown",
      "metadata": {
        "id": "view-in-github",
        "colab_type": "text"
      },
      "source": [
        "<a href=\"https://colab.research.google.com/github/Brandon-Sch/Sports-Score-Simulator/blob/main/PremierLeagueScorePredictor.ipynb\" target=\"_parent\"><img src=\"https://colab.research.google.com/assets/colab-badge.svg\" alt=\"Open In Colab\"/></a>"
      ]
    },
    {
      "cell_type": "markdown",
      "source": [
        "# Data Parsing"
      ],
      "metadata": {
        "id": "yqLpTPNhdLA-"
      },
      "id": "yqLpTPNhdLA-"
    },
    {
      "cell_type": "code",
      "execution_count": 6,
      "id": "92f543f1-c3be-474c-8e8a-8ceff8c14179",
      "metadata": {
        "id": "92f543f1-c3be-474c-8e8a-8ceff8c14179"
      },
      "outputs": [],
      "source": [
        "#import packages\n",
        "import pandas as pd\n",
        "from sklearn.preprocessing import LabelEncoder"
      ]
    },
    {
      "cell_type": "code",
      "source": [
        "#read data in from the csv file using pandas read\n",
        "#specify encoding because different encoding than UTF-8\n",
        "df = pd.read_csv(\"PremierLeagueData.csv\", encoding='latin1')\n",
        "#print the first 5 lines of the dataset\n",
        "print(df.head())"
      ],
      "metadata": {
        "colab": {
          "base_uri": "https://localhost:8080/"
        },
        "id": "exbRrSy9c3dZ",
        "outputId": "b3079b5b-eba1-427e-d9bd-a601a7136818"
      },
      "id": "exbRrSy9c3dZ",
      "execution_count": 7,
      "outputs": [
        {
          "output_type": "stream",
          "name": "stdout",
          "text": [
            "    Season              DateTime     HomeTeam        AwayTeam  FTHG  FTAG FTR  \\\n",
            "0  1993-94  1993-08-14T00:00:00Z      Arsenal        Coventry     0     3   A   \n",
            "1  1993-94  1993-08-14T00:00:00Z  Aston Villa             QPR     4     1   H   \n",
            "2  1993-94  1993-08-14T00:00:00Z      Chelsea       Blackburn     1     2   A   \n",
            "3  1993-94  1993-08-14T00:00:00Z    Liverpool  Sheffield Weds     2     0   H   \n",
            "4  1993-94  1993-08-14T00:00:00Z     Man City           Leeds     1     1   D   \n",
            "\n",
            "   HTHG  HTAG  HTR  ... HST  AST  HC  AC  HF  AF  HY  AY  HR  AR  \n",
            "0   NaN   NaN  NaN  ... NaN  NaN NaN NaN NaN NaN NaN NaN NaN NaN  \n",
            "1   NaN   NaN  NaN  ... NaN  NaN NaN NaN NaN NaN NaN NaN NaN NaN  \n",
            "2   NaN   NaN  NaN  ... NaN  NaN NaN NaN NaN NaN NaN NaN NaN NaN  \n",
            "3   NaN   NaN  NaN  ... NaN  NaN NaN NaN NaN NaN NaN NaN NaN NaN  \n",
            "4   NaN   NaN  NaN  ... NaN  NaN NaN NaN NaN NaN NaN NaN NaN NaN  \n",
            "\n",
            "[5 rows x 23 columns]\n"
          ]
        }
      ]
    },
    {
      "cell_type": "code",
      "source": [
        "print(df.columns)"
      ],
      "metadata": {
        "colab": {
          "base_uri": "https://localhost:8080/"
        },
        "id": "qIX1ma8be5Do",
        "outputId": "969c0d5a-b6b9-4d01-8d95-52abc3555bc1"
      },
      "id": "qIX1ma8be5Do",
      "execution_count": 8,
      "outputs": [
        {
          "output_type": "stream",
          "name": "stdout",
          "text": [
            "Index(['Season', 'DateTime', 'HomeTeam', 'AwayTeam', 'FTHG', 'FTAG', 'FTR',\n",
            "       'HTHG', 'HTAG', 'HTR', 'Referee', 'HS', 'AS', 'HST', 'AST', 'HC', 'AC',\n",
            "       'HF', 'AF', 'HY', 'AY', 'HR', 'AR'],\n",
            "      dtype='object')\n"
          ]
        }
      ]
    },
    {
      "cell_type": "code",
      "source": [
        "#drop the columns that aren't necessary\n",
        "df = df.drop(columns = ['HTHG', 'HTAG', 'HTR', 'Referee', 'HS', 'AS', 'HST', 'AST', 'HC', 'AC', 'HF', 'AF', 'HY', 'AY', 'HR', 'AR'], axis = 1)\n",
        "print(df.head())"
      ],
      "metadata": {
        "colab": {
          "base_uri": "https://localhost:8080/"
        },
        "id": "KoUWEOpqdJIq",
        "outputId": "f4ec8c02-ea85-47ca-94ba-1b4ccf4d5bd5"
      },
      "id": "KoUWEOpqdJIq",
      "execution_count": 9,
      "outputs": [
        {
          "output_type": "stream",
          "name": "stdout",
          "text": [
            "    Season              DateTime     HomeTeam        AwayTeam  FTHG  FTAG FTR\n",
            "0  1993-94  1993-08-14T00:00:00Z      Arsenal        Coventry     0     3   A\n",
            "1  1993-94  1993-08-14T00:00:00Z  Aston Villa             QPR     4     1   H\n",
            "2  1993-94  1993-08-14T00:00:00Z      Chelsea       Blackburn     1     2   A\n",
            "3  1993-94  1993-08-14T00:00:00Z    Liverpool  Sheffield Weds     2     0   H\n",
            "4  1993-94  1993-08-14T00:00:00Z     Man City           Leeds     1     1   D\n"
          ]
        }
      ]
    },
    {
      "cell_type": "code",
      "source": [
        "# sorting date time\n",
        "df['DateTime'] = pd.to_datetime(df['DateTime'])\n",
        "df = df.sort_values('DateTime')"
      ],
      "metadata": {
        "id": "8s1ujvyxfcdT"
      },
      "id": "8s1ujvyxfcdT",
      "execution_count": 10,
      "outputs": []
    },
    {
      "cell_type": "code",
      "source": [
        "#Label Encoder because a model cannot read names and needs to read them in as numbers\n",
        "encoder = LabelEncoder()\n",
        "#goes trough the home teams and assigns them all a number\n",
        "df['HomeTeam'] = encoder.fit_transform(df['HomeTeam'])\n",
        "#goes through the away teams and assigns them all the same number they have for the home teams\n",
        "df['AwayTeam'] = encoder.transform(df['AwayTeam'])\n",
        "print(df.head())"
      ],
      "metadata": {
        "id": "0R_R7LOCj3In",
        "colab": {
          "base_uri": "https://localhost:8080/"
        },
        "outputId": "28a861cf-0286-4188-e6d7-54b64a21d541"
      },
      "id": "0R_R7LOCj3In",
      "execution_count": 11,
      "outputs": [
        {
          "output_type": "stream",
          "name": "stdout",
          "text": [
            "    Season                  DateTime  HomeTeam  AwayTeam  FTHG  FTAG FTR\n",
            "0  1993-94 1993-08-14 00:00:00+00:00         0        15     0     3   A\n",
            "9  1993-94 1993-08-14 00:00:00+00:00        46        48     0     2   A\n",
            "7  1993-94 1993-08-14 00:00:00+00:00        36        42     3     1   H\n",
            "6  1993-94 1993-08-14 00:00:00+00:00        32        22     0     3   A\n",
            "5  1993-94 1993-08-14 00:00:00+00:00        29        43     0     1   A\n"
          ]
        }
      ]
    },
    {
      "cell_type": "code",
      "source": [
        "#Keep track of rolling averages for wins for home/away team\n",
        "\n",
        "#gets the points.\n",
        "#if the home team wins the match, and the team we are looking at is home we return 3 points\n",
        "#if the away team wins and the team we are looking at is away then return 3 points\n",
        "#if a draw return 1 regardless of team\n",
        "#otherwise return 0\n",
        "def get_points(result, is_home):\n",
        "    if result == 'H' and is_home: return 3\n",
        "    if result == 'A' and not is_home: return 3\n",
        "    if result == 'D': return 1\n",
        "    return 0\n",
        "\n",
        "# For each match (row) in the DataFrame, calculate how many league points\n",
        "# the home team earned. The get_points() function returns:\n",
        "# 3 for a win, 1 for a draw, 0 for a loss.\n",
        "# axis=1 means \"apply this function to each row\" instead of each column.\n",
        "df['HomePoints'] = df.apply(lambda x: get_points(x['FTR'], True), axis=1)\n",
        "\n",
        "# Do the same for the away team, but pass is_home=False.\n",
        "# This way, the function returns points from the away team’s perspective.\n",
        "df['AwayPoints'] = df.apply(lambda x: get_points(x['FTR'], False), axis=1)\n",
        "\n",
        "print(df.head())\n",
        "\n",
        "# For each team, look at their past matches as the home team,\n",
        "# shift() moves results down one row so we don't include the current match\n",
        "# (avoids \"peeking into the future\"),\n",
        "# rolling(5).mean() calculates their average points from the previous 5 matches.\n",
        "# This gives a \"form\" rating — how well the team has been doing recently at home.\n",
        "df['HomeForm'] = (\n",
        "    df.groupby('HomeTeam')['HomePoints']\n",
        "      .transform(lambda x: x.shift().rolling(5).mean())\n",
        ")\n",
        "\n",
        "# Do the same for away teams — average points over their last 5 away matches.\n",
        "df['AwayForm'] = (\n",
        "    df.groupby('AwayTeam')['AwayPoints']\n",
        "      .transform(lambda x: x.shift().rolling(5).mean())\n",
        ")\n"
      ],
      "metadata": {
        "id": "PsMVoE1PiZWG",
        "colab": {
          "base_uri": "https://localhost:8080/"
        },
        "outputId": "af3cf4e0-7ad0-49e1-dfb3-fbfa7cd20ab1"
      },
      "id": "PsMVoE1PiZWG",
      "execution_count": 15,
      "outputs": [
        {
          "output_type": "stream",
          "name": "stdout",
          "text": [
            "    Season                  DateTime  HomeTeam  AwayTeam  FTHG  FTAG FTR  \\\n",
            "0  1993-94 1993-08-14 00:00:00+00:00         0        15     0     3   A   \n",
            "9  1993-94 1993-08-14 00:00:00+00:00        46        48     0     2   A   \n",
            "7  1993-94 1993-08-14 00:00:00+00:00        36        42     3     1   H   \n",
            "6  1993-94 1993-08-14 00:00:00+00:00        32        22     0     3   A   \n",
            "5  1993-94 1993-08-14 00:00:00+00:00        29        43     0     1   A   \n",
            "\n",
            "   HomePoints  AwayPoints  HomeForm  AwayForm  HomeGoalsAvg  AwayGoalsAvg  \n",
            "0           0           3       0.0       0.0           0.0           0.0  \n",
            "9           0           3       0.0       0.0           0.0           0.0  \n",
            "7           3           0       0.0       0.0           0.0           0.0  \n",
            "6           0           3       0.0       0.0           0.0           0.0  \n",
            "5           0           3       0.0       0.0           0.0           0.0  \n"
          ]
        }
      ]
    },
    {
      "cell_type": "code",
      "source": [
        "# For each team, calculate how many goals they typically score at home.\n",
        "# Step-by-step:\n",
        "# 1. groupby('HomeTeam'): process each team separately.\n",
        "# 2. ['FTHG']: use the 'Full Time Home Goals' column — how many goals the home team scored in each match.\n",
        "# 3. transform(...): ensures the result stays aligned with the original DataFrame (so each row gets a value).\n",
        "# 4. Inside transform:\n",
        "#     - x.shift(): moves the data down by one row, so the current match does NOT include itself (avoids using future info).\n",
        "#     - .rolling(5).mean(): computes the average goals over the team’s previous 5 home matches.\n",
        "# The result is a new column showing each home team’s average goals scored in their last 5 home games before each match.\n",
        "df['HomeGoalsAvg'] = (\n",
        "    df.groupby('HomeTeam')['FTHG']\n",
        "      .transform(lambda x: x.shift().rolling(5).mean())\n",
        ")\n",
        "\n",
        "# Do the same for away teams:\n",
        "# - groupby('AwayTeam'): calculate stats for each team’s away matches.\n",
        "# - ['FTAG']: use the 'Full Time Away Goals' column — goals scored by the away team in each match.\n",
        "# - shift() and rolling(5).mean(): same idea — average goals from the last 5 away games, excluding the current one.\n",
        "# This gives a measure of each team’s attacking strength when playing away.\n",
        "df['AwayGoalsAvg'] = (\n",
        "    df.groupby('AwayTeam')['FTAG']\n",
        "      .transform(lambda x: x.shift().rolling(5).mean())\n",
        ")\n"
      ],
      "metadata": {
        "id": "9Bm2HcSIigmb"
      },
      "id": "9Bm2HcSIigmb",
      "execution_count": 16,
      "outputs": []
    },
    {
      "cell_type": "code",
      "source": [
        "df = df.fillna(0)"
      ],
      "metadata": {
        "id": "eJUvTqcciifR"
      },
      "id": "eJUvTqcciifR",
      "execution_count": 14,
      "outputs": []
    }
  ],
  "metadata": {
    "kernelspec": {
      "display_name": "",
      "name": ""
    },
    "language_info": {
      "name": ""
    },
    "colab": {
      "provenance": [],
      "include_colab_link": true
    }
  },
  "nbformat": 4,
  "nbformat_minor": 5
}